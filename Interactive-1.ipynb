{
 "cells": [
  {
   "cell_type": "markdown",
   "metadata": {},
   "source": [
    "Connected to Python 3.13.0"
   ]
  },
  {
   "cell_type": "code",
   "execution_count": 1,
   "id": "7ad5a95c-b2b6-4944-9c9c-6e2e234dc23e",
   "metadata": {},
   "outputs": [
    {
     "ename": "ModuleNotFoundError",
     "evalue": "No module named 'openpyxl'",
     "output_type": "error",
     "traceback": [
      "\u001b[0;31m---------------------------------------------------------------------------\u001b[0m",
      "\u001b[0;31mModuleNotFoundError\u001b[0m                       Traceback (most recent call last)",
      "Cell \u001b[0;32mIn[1], line 9\u001b[0m\n\u001b[1;32m      7\u001b[0m \u001b[38;5;28;01mimport\u001b[39;00m \u001b[38;5;21;01mpandas\u001b[39;00m \u001b[38;5;28;01mas\u001b[39;00m \u001b[38;5;21;01mpd\u001b[39;00m\n\u001b[1;32m      8\u001b[0m \u001b[38;5;28;01mimport\u001b[39;00m \u001b[38;5;21;01mos\u001b[39;00m\n\u001b[0;32m----> 9\u001b[0m \u001b[38;5;28;01mfrom\u001b[39;00m \u001b[38;5;21;01mopenpyxl\u001b[39;00m \u001b[38;5;28;01mimport\u001b[39;00m Workbook, load_workbook\n\u001b[1;32m     11\u001b[0m \u001b[38;5;28;01mdef\u001b[39;00m \u001b[38;5;21mhighlight_differences\u001b[39m(df1, df2):\n\u001b[1;32m     12\u001b[0m \u001b[38;5;250m    \u001b[39m\u001b[38;5;124;03m\"\"\"\u001b[39;00m\n\u001b[1;32m     13\u001b[0m \u001b[38;5;124;03m    Function to highlight differences between two dataframes.\u001b[39;00m\n\u001b[1;32m     14\u001b[0m \u001b[38;5;124;03m    Returns a DataFrame highlighting where differences occur.\u001b[39;00m\n\u001b[1;32m     15\u001b[0m \u001b[38;5;124;03m    \"\"\"\u001b[39;00m\n",
      "\u001b[0;31mModuleNotFoundError\u001b[0m: No module named 'openpyxl'"
     ]
    }
   ],
   "source": [
    "# XLS Diff Reports - DRAFT\n",
    "# Description: This script is designed to take two Excel files as input, \n",
    "#               create a duplicate of the first file with updated headers, highlight differences between the two files, \n",
    "#               and send an email with the differences file as an attachment.\n",
    "\n",
    "\n",
    "import pandas as pd\n",
    "import os\n",
    "from openpyxl import Workbook, load_workbook\n",
    "\n",
    "def highlight_differences(df1, df2):\n",
    "    \"\"\"\n",
    "    Function to highlight differences between two dataframes.\n",
    "    Returns a DataFrame highlighting where differences occur.\n",
    "    \"\"\"\n",
    "    diff = df1.compare(df2, align_axis=1, keep_shape=True, keep_equal=True)\n",
    "    return diff\n",
    "\n",
    "def main():\n",
    "    # Step 1: Take two Excel files as input\n",
    "    excel_1_path = input(\"Enter the path to the first Excel file: \")\n",
    "    excel_2_path = input(\"Enter the path to the second Excel file: \")\n",
    "    excel_1 = pd.read_excel(excel_1_path)\n",
    "    excel_2 = pd.read_excel(excel_2_path)\n",
    "\n",
    "    # Step 2: Create a duplicate of excel_1 with updated headers\n",
    "    excluded_headers = [\"Service Item ID\", \"Service Item ArcGIS Online URL\", \"Item Type\"]\n",
    "    new_headers = {col: f\"{col}_(before)\" if col not in excluded_headers else col for col in excel_1.columns}\n",
    "    excel_1_duplicate = excel_1.rename(columns=new_headers)\n",
    "    excel_1_duplicate_path = \"excel_1_duplicate.xlsx\"\n",
    "    excel_1_duplicate.to_excel(excel_1_duplicate_path, index=False)\n",
    "    print(f\"Duplicate Excel file created at: {excel_1_duplicate_path}\")\n",
    "\n",
    "    # Step 3: Create a list of headers in excel_1_duplicate excluding specific columns\n",
    "    excel_1_headers = [col for col in excel_1_duplicate.columns if col not in excluded_headers]\n",
    "\n",
    "    # Step 4: Highlight differences between excel_1 and excel_2\n",
    "    differences = highlight_differences(excel_1, excel_2)\n",
    "    differences_path = \"Differences_PGE_Reports_Field_Maps.xlsx\"\n",
    "    differences.to_excel(differences_path, index=False)\n",
    "    print(f\"Differences file created at: {differences_path}\")\n",
    "\n",
    "    # Step 5: Create a list of headers from excel_1 excluding specific columns\n",
    "    header_fields = [col for col in excel_1.columns if col not in excluded_headers]\n",
    "\n",
    "    # Step 6: Add duplicate headers with “_(before)” appended to excel_1\n",
    "    for header in header_fields:\n",
    "        excel_1[f\"{header}_(before)\"] = excel_1[header]\n",
    "\n",
    "    excel_1_updated_path = \"excel_1_with_duplicate_headers.xlsx\"\n",
    "    excel_1.to_excel(excel_1_updated_path, index=False)\n",
    "    print(f\"Updated Excel file with duplicate headers created at: {excel_1_updated_path}\")\n",
    "\n",
    "if __name__ == \"__main__\":\n",
    "    main()"
   ]
  },
  {
   "cell_type": "code",
   "execution_count": 2,
   "id": "ddd9131f-27cd-4bf8-bdab-ac2b5c2432c2",
   "metadata": {},
   "outputs": [],
   "source": [
    "import pandas as pd"
   ]
  }
 ],
 "metadata": {
  "kernelspec": {
   "display_name": ".venv",
   "language": "python",
   "name": "python3"
  },
  "language_info": {
   "codemirror_mode": {
    "name": "ipython",
    "version": 3
   },
   "file_extension": ".py",
   "mimetype": "text/x-python",
   "name": "python",
   "nbconvert_exporter": "python",
   "pygments_lexer": "ipython3",
   "version": "3.13.0"
  }
 },
 "nbformat": 4,
 "nbformat_minor": 2
}
